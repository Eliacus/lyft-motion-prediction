{
 "metadata": {
  "language_info": {
   "codemirror_mode": {
    "name": "ipython",
    "version": 3
   },
   "file_extension": ".py",
   "mimetype": "text/x-python",
   "name": "python",
   "nbconvert_exporter": "python",
   "pygments_lexer": "ipython3",
   "version": "3.8.5-final"
  },
  "orig_nbformat": 2,
  "kernelspec": {
   "name": "python3",
   "display_name": "Python 3"
  }
 },
 "nbformat": 4,
 "nbformat_minor": 2,
 "cells": [
  {
   "source": [
    "Questions to answer by this EDA:\n",
    "- What kind of data do we have? \n",
    "    - What kind of data do we have. Numeric, images, time series?  \n",
    "    - How big is the dataset?\n",
    "- What can l5kit do?\n",
    "    - Can we combine zarr files?\n",
    "    - other functionality that might prove useful\n",
    "- General visualization and analysis\n",
    "    - How is the data distributed?\n",
    "    - Is the data complete?\n",
    "    - Does the data need any cleaning?"
   ],
   "cell_type": "markdown",
   "metadata": {}
  },
  {
   "cell_type": "code",
   "execution_count": 2,
   "metadata": {},
   "outputs": [],
   "source": [
    "import numpy\n",
    "import pandas\n",
    "import l5kit"
   ]
  },
  {
   "cell_type": "code",
   "execution_count": 1,
   "metadata": {},
   "outputs": [],
   "source": [
    "os.environ[\"L5KIT_DATA_FOLDER\"] = \"/home/elias/Documents/lyft-motion-prediction/data\"\n",
    "\n"
   ]
  }
 ]
}