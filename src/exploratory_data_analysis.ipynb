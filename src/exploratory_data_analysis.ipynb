{
 "metadata": {
  "language_info": {
   "codemirror_mode": {
    "name": "ipython",
    "version": 3
   },
   "file_extension": ".py",
   "mimetype": "text/x-python",
   "name": "python",
   "nbconvert_exporter": "python",
   "pygments_lexer": "ipython3",
   "version": "3.8.5-final"
  },
  "orig_nbformat": 2,
  "kernelspec": {
   "name": "python3",
   "display_name": "Python 3"
  }
 },
 "nbformat": 4,
 "nbformat_minor": 2,
 "cells": [
  {
   "source": [
    "Questions to answer by this EDA:\n",
    "- What kind of data do we have? \n",
    "    - What kind of data do we have. Numeric, images, time series?  \n",
    "    - How big is the dataset?\n",
    "- What can l5kit do?\n",
    "    - Can we combine zarr files?\n",
    "    - other functionality that might prove useful\n",
    "- General visualization and analysis\n",
    "    - How is the data distributed?\n",
    "    - Is the data complete?\n",
    "    - Does the data need any cleaning?"
   ],
   "cell_type": "markdown",
   "metadata": {}
  },
  {
   "cell_type": "code",
   "execution_count": 8,
   "metadata": {},
   "outputs": [],
   "source": [
    "import numpy\n",
    "import pandas\n",
    "import l5kit\n",
    "\n",
    "from l5kit.data import ChunkedDataset, LocalDataManager\n",
    "from l5kit.dataset import EgoDataset, AgentDataset\n",
    "\n",
    "from l5kit.rasterization import build_rasterizer\n",
    "from l5kit.configs import load_config_data\n",
    "from l5kit.visualization import draw_trajectory, TARGET_POINTS_COLOR\n",
    "from l5kit.geometry import transform_points\n",
    "from tqdm import tqdm\n",
    "from collections import Counter\n",
    "from l5kit.data import PERCEPTION_LABELS\n",
    "from prettytable import PrettyTable"
   ]
  },
  {
   "cell_type": "code",
   "execution_count": 9,
   "metadata": {
    "tags": []
   },
   "outputs": [
    {
     "output_type": "stream",
     "name": "stdout",
     "text": "current raster_param:\n\nraster_size:[224, 224]\npixel_size:[0.5, 0.5]\nego_center:[0.25, 0.5]\nmap_type:py_semantic\nsatellite_map_key:aerial_map/aerial_map.png\nsemantic_map_key:semantic_map/semantic_map.pb\ndataset_meta_key:meta.json\nfilter_agents_threshold:0.5\ndisable_traffic_light_faces:False\n"
    }
   ],
   "source": [
    "os.environ[\"L5KIT_DATA_FOLDER\"] = \"/home/elias/Documents/lyft-motion-prediction/data\"\n",
    "\n",
    "cfg = load_config_data(\"./eda_config.yaml\")\n",
    "\n",
    "print(f'current raster_param:\\n')\n",
    "for k,v in cfg[\"raster_params\"].items():\n",
    "    print(f\"{k}:{v}\")\n"
   ]
  },
  {
   "cell_type": "code",
   "execution_count": null,
   "metadata": {},
   "outputs": [],
   "source": []
  }
 ]
}