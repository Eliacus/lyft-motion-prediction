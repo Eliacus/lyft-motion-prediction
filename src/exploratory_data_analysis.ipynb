{
 "metadata": {
  "language_info": {
   "codemirror_mode": {
    "name": "ipython",
    "version": 3
   },
   "file_extension": ".py",
   "mimetype": "text/x-python",
   "name": "python",
   "nbconvert_exporter": "python",
   "pygments_lexer": "ipython3",
   "version": "3.8.5-final"
  },
  "orig_nbformat": 2,
  "kernelspec": {
   "name": "Python 3.8.5 64-bit ('l5': conda)",
   "display_name": "Python 3.8.5 64-bit ('l5': conda)",
   "metadata": {
    "interpreter": {
     "hash": "8d43ec72833cb83b3a3680f6698f5e4606752e386a44876081641a650058aa89"
    }
   }
  }
 },
 "nbformat": 4,
 "nbformat_minor": 2,
 "cells": [
  {
   "source": [
    "Questions to answer by this EDA:\n",
    "- What kind of data do we have? \n",
    "    - What kind of data do we have. Numeric, images, time series?  \n",
    "    - How big is the dataset?\n",
    "- How does l5kit work?\n",
    "    - Can we combine zarr files?\n",
    "    - Difference between Ego and Agent Datasets\n",
    "    - other functionality that might prove useful\n",
    "- General visualization and analysis\n",
    "    - How is the data distributed?\n",
    "    - Is the data complete?\n",
    "    - Does the data need any cleaning?"
   ],
   "cell_type": "markdown",
   "metadata": {}
  },
  {
   "cell_type": "code",
   "execution_count": 1,
   "metadata": {},
   "outputs": [],
   "source": [
    "import numpy as np\n",
    "import pandas\n",
    "import l5kit\n",
    "\n",
    "from l5kit.data import ChunkedDataset, LocalDataManager\n",
    "from l5kit.dataset import EgoDataset, AgentDataset\n",
    "\n",
    "from l5kit.rasterization import build_rasterizer\n",
    "from l5kit.configs import load_config_data\n",
    "from l5kit.visualization import draw_trajectory, TARGET_POINTS_COLOR\n",
    "from l5kit.geometry import transform_points\n",
    "from tqdm import tqdm\n",
    "from collections import Counter\n",
    "from l5kit.data import PERCEPTION_LABELS\n",
    "from prettytable import PrettyTable\n",
    "import matplotlib.pyplot as plt"
   ]
  },
  {
   "cell_type": "code",
   "execution_count": 2,
   "metadata": {
    "tags": []
   },
   "outputs": [
    {
     "output_type": "stream",
     "name": "stdout",
     "text": [
      "current raster_param:\n\nraster_size:[224, 224]\npixel_size:[0.5, 0.5]\nego_center:[0.25, 0.5]\nmap_type:py_semantic\nsatellite_map_key:aerial_map/aerial_map.png\nsemantic_map_key:semantic_map/semantic_map.pb\ndataset_meta_key:meta.json\nfilter_agents_threshold:0.5\ndisable_traffic_light_faces:False\n"
     ]
    }
   ],
   "source": [
    "os.environ[\"L5KIT_DATA_FOLDER\"] = \"/home/elias.nehme1/Documents/lyft-motion-prediction/data\"\n",
    "\n",
    "cfg = load_config_data(\"./train_config.yaml\")\n",
    "\n",
    "print(f'current raster_param:\\n')\n",
    "for k,v in cfg[\"raster_params\"].items():\n",
    "    print(f\"{k}:{v}\")\n"
   ]
  },
  {
   "source": [
    "# Loading the data"
   ],
   "cell_type": "markdown",
   "metadata": {}
  },
  {
   "cell_type": "code",
   "execution_count": 3,
   "metadata": {
    "tags": []
   },
   "outputs": [
    {
     "output_type": "stream",
     "name": "stdout",
     "text": [
      "TRAINING DATASET\n",
      "+------------+------------+------------+-----------------+----------------------+----------------------+----------------------+---------------------+\n",
      "| Num Scenes | Num Frames | Num Agents | Total Time (hr) | Avg Frames per Scene | Avg Agents per Frame | Avg Scene Time (sec) | Avg Frame frequency |\n",
      "+------------+------------+------------+-----------------+----------------------+----------------------+----------------------+---------------------+\n",
      "|   134622   |  33437057  | 2655096629 |      928.68     |        248.38        |        79.41         |        24.83         |        10.00        |\n",
      "+------------+------------+------------+-----------------+----------------------+----------------------+----------------------+---------------------+\n"
     ]
    }
   ],
   "source": [
    "dm = LocalDataManager()\n",
    "#sample_dataset_path = dm.require(cfg[\"sample_data_loader\"][\"key\"])\n",
    "train_dataset_path = dm.require(cfg[\"train_data_loader\"][\"key\"])\n",
    "#validate_dataset_path = dm.require(cfg[\"val_data_loader\"][\"key\"])\n",
    "\n",
    "#sample_dataset = ChunkedDataset(sample_dataset_path)\n",
    "train_dataset = ChunkedDataset(train_dataset_path)\n",
    "#validate_dataset = ChunkedDataset(validate_dataset_path)\n",
    "\n",
    "#print(\"SAMPLE DATASET\")\n",
    "#sample_dataset.open()\n",
    "#print(sample_dataset)\n",
    "\n",
    "print(\"TRAINING DATASET\")\n",
    "train_dataset.open()\n",
    "print(train_dataset)\n",
    "\n",
    "#print(\"VALIDATION DATASET\")\n",
    "#validate_dataset.open()\n",
    "#print(validate_dataset)"
   ]
  },
  {
   "source": [
    "The validation dataset seems to be just as large as the training dataset. For training of the final model, this data should definately be included in training"
   ],
   "cell_type": "markdown",
   "metadata": {}
  },
  {
   "cell_type": "code",
   "execution_count": 6,
   "metadata": {},
   "outputs": [
    {
     "output_type": "error",
     "ename": "TypeError",
     "evalue": "'ChunkedDataset' object is not iterable",
     "traceback": [
      "\u001b[0;31m---------------------------------------------------------------------------\u001b[0m",
      "\u001b[0;31mTypeError\u001b[0m                                 Traceback (most recent call last)",
      "\u001b[0;32m<ipython-input-6-26740370999f>\u001b[0m in \u001b[0;36m<module>\u001b[0;34m\u001b[0m\n\u001b[0;32m----> 1\u001b[0;31m \u001b[0miter\u001b[0m\u001b[0;34m(\u001b[0m\u001b[0mtrain_dataset\u001b[0m\u001b[0;34m)\u001b[0m\u001b[0;34m\u001b[0m\u001b[0;34m\u001b[0m\u001b[0m\n\u001b[0m",
      "\u001b[0;31mTypeError\u001b[0m: 'ChunkedDataset' object is not iterable"
     ]
    }
   ],
   "source": []
  }
 ]
}